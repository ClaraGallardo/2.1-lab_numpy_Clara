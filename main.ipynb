{
 "cells": [
  {
   "cell_type": "code",
   "execution_count": 3,
   "id": "5dcff015",
   "metadata": {},
   "outputs": [
    {
     "name": "stdout",
     "output_type": "stream",
     "text": [
      "Requirement already satisfied: numpy in c:\\users\\usuario\\anaconda3\\lib\\site-packages (1.24.3)\n",
      "Note: you may need to restart the kernel to use updated packages.\n"
     ]
    }
   ],
   "source": [
    "#1. Import the NUMPY package under the name np.\n",
    "\n",
    "%pip install numpy\n",
    "\n",
    "import numpy as np"
   ]
  },
  {
   "cell_type": "code",
   "execution_count": 4,
   "id": "6b059817",
   "metadata": {},
   "outputs": [
    {
     "name": "stdout",
     "output_type": "stream",
     "text": [
      "1.24.3\n"
     ]
    }
   ],
   "source": [
    "\n",
    "#2. Print the NUMPY version and the configuration.\n",
    "\n",
    "print(np. __version__)"
   ]
  },
  {
   "cell_type": "code",
   "execution_count": 5,
   "id": "54b837bf",
   "metadata": {},
   "outputs": [],
   "source": [
    "\n",
    "#3. Generate a 2x3x5 3-dimensional array with random values. Assign the array to variable \"a\"\n",
    "# Challenge: there are at least three easy ways that use numpy to generate random arrays. How many ways can you find?\n",
    "\n",
    "a=np.random.random((2,3,5))"
   ]
  },
  {
   "cell_type": "code",
   "execution_count": 6,
   "id": "4c840390",
   "metadata": {},
   "outputs": [
    {
     "name": "stdout",
     "output_type": "stream",
     "text": [
      "[[[0.80616579 0.87630752 0.46481359 0.67912551 0.13200411]\n",
      "  [0.79156378 0.22793445 0.18187254 0.34125704 0.31904492]\n",
      "  [0.25473676 0.03580231 0.71275198 0.75110648 0.50934417]]\n",
      "\n",
      " [[0.40435043 0.38011305 0.73202142 0.66732849 0.76356686]\n",
      "  [0.98673213 0.62082971 0.54097282 0.99770969 0.81250361]\n",
      "  [0.09332444 0.25724727 0.50133725 0.1262348  0.77804693]]]\n"
     ]
    }
   ],
   "source": [
    "\n",
    "#4. Print a.\n",
    "\n",
    "print(a)"
   ]
  },
  {
   "cell_type": "code",
   "execution_count": 7,
   "id": "6340aca3",
   "metadata": {},
   "outputs": [
    {
     "data": {
      "text/plain": [
       "(5, 2, 3)"
      ]
     },
     "execution_count": 7,
     "metadata": {},
     "output_type": "execute_result"
    }
   ],
   "source": [
    "\n",
    "#5. Create a 5x2x3 3-dimensional array with all values equaling 1.\n",
    "#Assign the array to variable \"b\"\n",
    "\n",
    "b = np.ones((5,2,3))\n",
    "\n",
    "b.shape"
   ]
  },
  {
   "cell_type": "code",
   "execution_count": 8,
   "id": "519e11c8",
   "metadata": {},
   "outputs": [
    {
     "name": "stdout",
     "output_type": "stream",
     "text": [
      "[[[1. 1. 1.]\n",
      "  [1. 1. 1.]]\n",
      "\n",
      " [[1. 1. 1.]\n",
      "  [1. 1. 1.]]\n",
      "\n",
      " [[1. 1. 1.]\n",
      "  [1. 1. 1.]]\n",
      "\n",
      " [[1. 1. 1.]\n",
      "  [1. 1. 1.]]\n",
      "\n",
      " [[1. 1. 1.]\n",
      "  [1. 1. 1.]]]\n"
     ]
    }
   ],
   "source": [
    "\n",
    "#6. Print b.\n",
    "\n",
    "print(b)"
   ]
  },
  {
   "cell_type": "code",
   "execution_count": 9,
   "id": "cbb71c32",
   "metadata": {},
   "outputs": [
    {
     "data": {
      "text/plain": [
       "(2, 3, 5)"
      ]
     },
     "execution_count": 9,
     "metadata": {},
     "output_type": "execute_result"
    }
   ],
   "source": [
    "\n",
    "#7. Do a and b have the same size? How do you prove that in Python code?\n",
    "\n",
    "a.shape"
   ]
  },
  {
   "cell_type": "code",
   "execution_count": 10,
   "id": "c3b19786",
   "metadata": {},
   "outputs": [],
   "source": [
    "\n",
    "#8. Are you able to add a and b? Why or why not?\n",
    "\n",
    "\n",
    "# No se pueden sumar ya que las dimensiones deben ser iguales\n"
   ]
  },
  {
   "cell_type": "code",
   "execution_count": 11,
   "id": "6041d789",
   "metadata": {},
   "outputs": [
    {
     "data": {
      "text/plain": [
       "(2, 3, 5)"
      ]
     },
     "execution_count": 11,
     "metadata": {},
     "output_type": "execute_result"
    }
   ],
   "source": [
    "\n",
    "#9. Transpose b so that it has the same structure of a (i.e. become a 2x3x5 array). Assign the transposed array to varialbe \"c\".\n",
    "\n",
    "c=np.transpose(b, (1,2,0))\n",
    "\n",
    "c.shape"
   ]
  },
  {
   "cell_type": "code",
   "execution_count": 12,
   "id": "885752b0",
   "metadata": {},
   "outputs": [
    {
     "data": {
      "text/plain": [
       "array([[[1.80616579, 1.87630752, 1.46481359, 1.67912551, 1.13200411],\n",
       "        [1.79156378, 1.22793445, 1.18187254, 1.34125704, 1.31904492],\n",
       "        [1.25473676, 1.03580231, 1.71275198, 1.75110648, 1.50934417]],\n",
       "\n",
       "       [[1.40435043, 1.38011305, 1.73202142, 1.66732849, 1.76356686],\n",
       "        [1.98673213, 1.62082971, 1.54097282, 1.99770969, 1.81250361],\n",
       "        [1.09332444, 1.25724727, 1.50133725, 1.1262348 , 1.77804693]]])"
      ]
     },
     "execution_count": 12,
     "metadata": {},
     "output_type": "execute_result"
    }
   ],
   "source": [
    "\n",
    "#10. Try to add a and c. Now it should work. Assign the sum to varialbe \"d\". But why does it work now?\n",
    "\n",
    "d= a+c\n",
    "\n",
    "d\n"
   ]
  },
  {
   "cell_type": "code",
   "execution_count": 13,
   "id": "6f57f6ab",
   "metadata": {},
   "outputs": [
    {
     "name": "stdout",
     "output_type": "stream",
     "text": [
      "[[[0.80616579 0.87630752 0.46481359 0.67912551 0.13200411]\n",
      "  [0.79156378 0.22793445 0.18187254 0.34125704 0.31904492]\n",
      "  [0.25473676 0.03580231 0.71275198 0.75110648 0.50934417]]\n",
      "\n",
      " [[0.40435043 0.38011305 0.73202142 0.66732849 0.76356686]\n",
      "  [0.98673213 0.62082971 0.54097282 0.99770969 0.81250361]\n",
      "  [0.09332444 0.25724727 0.50133725 0.1262348  0.77804693]]]\n",
      "[[[1.80616579 1.87630752 1.46481359 1.67912551 1.13200411]\n",
      "  [1.79156378 1.22793445 1.18187254 1.34125704 1.31904492]\n",
      "  [1.25473676 1.03580231 1.71275198 1.75110648 1.50934417]]\n",
      "\n",
      " [[1.40435043 1.38011305 1.73202142 1.66732849 1.76356686]\n",
      "  [1.98673213 1.62082971 1.54097282 1.99770969 1.81250361]\n",
      "  [1.09332444 1.25724727 1.50133725 1.1262348  1.77804693]]]\n"
     ]
    }
   ],
   "source": [
    "\n",
    "#11. Print a and d. Notice the difference and relation of the two array in terms of the values? Explain.\n",
    "\n",
    "print(a)\n",
    "print(d)\n",
    "\n",
    "#los valores se han sumado"
   ]
  },
  {
   "cell_type": "code",
   "execution_count": 14,
   "id": "c9b8da98",
   "metadata": {},
   "outputs": [
    {
     "data": {
      "text/plain": [
       "array([[[0.80616579, 0.87630752, 0.46481359, 0.67912551, 0.13200411],\n",
       "        [0.79156378, 0.22793445, 0.18187254, 0.34125704, 0.31904492],\n",
       "        [0.25473676, 0.03580231, 0.71275198, 0.75110648, 0.50934417]],\n",
       "\n",
       "       [[0.40435043, 0.38011305, 0.73202142, 0.66732849, 0.76356686],\n",
       "        [0.98673213, 0.62082971, 0.54097282, 0.99770969, 0.81250361],\n",
       "        [0.09332444, 0.25724727, 0.50133725, 0.1262348 , 0.77804693]]])"
      ]
     },
     "execution_count": 14,
     "metadata": {},
     "output_type": "execute_result"
    }
   ],
   "source": [
    "\n",
    "#12. Multiply a and c. Assign the result to e.\n",
    "\n",
    "e=a*c\n",
    "\n",
    "e"
   ]
  },
  {
   "cell_type": "code",
   "execution_count": 15,
   "id": "b01d0b64",
   "metadata": {},
   "outputs": [],
   "source": [
    "\n",
    "#13. Does e equal to a? Why or why not?\n",
    "\n",
    "#Estamos multiplicando por 1,por lo que nos dara igual"
   ]
  },
  {
   "cell_type": "code",
   "execution_count": 16,
   "id": "27fed7df",
   "metadata": {},
   "outputs": [
    {
     "name": "stdout",
     "output_type": "stream",
     "text": [
      "1.035802311700294\n",
      "1.035802311700294\n",
      "1.5248716619595841\n"
     ]
    }
   ],
   "source": [
    "\n",
    "#14. Identify the max, min, and mean values in d. Assign those values to variables \"d_max\", \"d_min\", and \"d_mean\"\n",
    "\n",
    "d_max=d.max()\n",
    "d_min= d.min()\n",
    "d_mean= d.mean()\n",
    "\n",
    "print(d_min)\n",
    "print(d_min)\n",
    "print(d_mean)"
   ]
  },
  {
   "cell_type": "code",
   "execution_count": 17,
   "id": "1474dd53",
   "metadata": {},
   "outputs": [
    {
     "data": {
      "text/plain": [
       "(2, 3, 5)"
      ]
     },
     "execution_count": 17,
     "metadata": {},
     "output_type": "execute_result"
    }
   ],
   "source": [
    "\n",
    "#15. Now we want to label the values in d. First create an empty array \"f\" with the same shape (i.e. 2x3x5) as d using `np.empty`.\n",
    "\n",
    "f=np.empty((2,3,5))\n",
    "f.shape"
   ]
  },
  {
   "cell_type": "code",
   "execution_count": 19,
   "id": "9ec9afb5",
   "metadata": {},
   "outputs": [],
   "source": [
    "\n",
    "\"\"\"\n",
    "#16. Populate the values in f. For each value in d, if it's larger than d_min but smaller than d_mean, assign 25 to the corresponding value in f.\n",
    "If a value in d is larger than d_mean but smaller than d_max, assign 75 to the corresponding value in f.\n",
    "If a value equals to d_mean, assign 50 to the corresponding value in f.\n",
    "Assign 0 to the corresponding value(s) in f for d_min in d.\n",
    "Assign 100 to the corresponding value(s) in f for d_max in d.\n",
    "In the end, f should have only the following values: 0, 25, 50, 75, and 100.\n",
    "Note: you don't have to use Numpy in this question.\n",
    "\"\"\"\n",
    "\n",
    "# valores entre dmi y dmean, intro 25\n",
    "\n",
    "#valores entre dmean y dmax, intro 75\n",
    "\n",
    "#valores iguales a dmen, intro 50\n",
    "\n",
    "#valores igual a dmin, intro 0\n",
    "\n",
    "#valores iguales a dmax, intro 100\n",
    "\n",
    "for x in range(d.shape[0]):\n",
    "    for y in range(d.shape[1]):\n",
    "        for z in range(d.shape[2]):\n",
    "            if d[x,y,z] > d_min and d[x,y,z] < d_mean:\n",
    "                f[x,y,z] = 25\n",
    "            elif d[x,y,z] > d_mean and d[x,y,z] < d_max:\n",
    "                f[x,y,z] = 75\n",
    "            elif d[x,y,z] == d_mean:\n",
    "                f[x,y,z] = 50\n",
    "            elif d[x,y,z] == d_min:\n",
    "                f[x,y,z] = 0\n",
    "            elif d[x,y,z] == d_max:\n",
    "                f[x,y,z] = 100\n"
   ]
  },
  {
   "cell_type": "code",
   "execution_count": 20,
   "id": "b9ddd1d5",
   "metadata": {},
   "outputs": [
    {
     "name": "stdout",
     "output_type": "stream",
     "text": [
      "[[[1.80616579 1.87630752 1.46481359 1.67912551 1.13200411]\n",
      "  [1.79156378 1.22793445 1.18187254 1.34125704 1.31904492]\n",
      "  [1.25473676 1.03580231 1.71275198 1.75110648 1.50934417]]\n",
      "\n",
      " [[1.40435043 1.38011305 1.73202142 1.66732849 1.76356686]\n",
      "  [1.98673213 1.62082971 1.54097282 1.99770969 1.81250361]\n",
      "  [1.09332444 1.25724727 1.50133725 1.1262348  1.77804693]]]\n",
      "[[[ 75.  75.  25.  75.  25.]\n",
      "  [ 75.  25.  25.  25.  25.]\n",
      "  [ 25.   0.  75.  75.  25.]]\n",
      "\n",
      " [[ 25.  25.  75.  75.  75.]\n",
      "  [ 75.  75.  75. 100.  75.]\n",
      "  [ 25.  25.  25.  25.  75.]]]\n"
     ]
    }
   ],
   "source": [
    "\n",
    "\"\"\"\n",
    "#17. Print d and f. Do you have your expected f?\n",
    "For instance, if your d is:\n",
    "array([[[1.85836099, 1.67064465, 1.62576044, 1.40243961, 1.88454931],\n",
    "        [1.75354326, 1.69403643, 1.36729252, 1.61415071, 1.12104981],\n",
    "        [1.72201435, 1.1862918 , 1.87078449, 1.7726778 , 1.88180042]],\n",
    "\n",
    "       [[1.44747908, 1.31673383, 1.02000951, 1.52218947, 1.97066381],\n",
    "        [1.79129243, 1.74983003, 1.96028037, 1.85166831, 1.65450881],\n",
    "        [1.18068344, 1.9587381 , 1.00656599, 1.93402165, 1.73514584]]])\n",
    "\n",
    "Your f should be:\n",
    "array([[[ 75.,  75.,  75.,  25.,  75.],\n",
    "        [ 75.,  75.,  25.,  25.,  25.],\n",
    "        [ 75.,  25.,  75.,  75.,  75.]],\n",
    "\n",
    "       [[ 25.,  25.,  25.,  25., 100.],\n",
    "        [ 75.,  75.,  75.,  75.,  75.],\n",
    "        [ 25.,  75.,   0.,  75.,  75.]]])\n",
    "\"\"\"\n",
    "print(d)\n",
    "print(f)\n"
   ]
  },
  {
   "cell_type": "code",
   "execution_count": null,
   "id": "557d0871",
   "metadata": {},
   "outputs": [],
   "source": [
    "\n",
    "\"\"\"\n",
    "#18. Bonus question: instead of using numbers (i.e. 0, 25, 50, 75, and 100), how to use string values \n",
    "(\"A\", \"B\", \"C\", \"D\", and \"E\") to label the array elements? You are expecting the result to be:\n",
    "array([[[ 'D',  'D',  'D',  'B',  'D'],\n",
    "        [ 'D',  'D',  'B',  'B',  'B'],\n",
    "        [ 'D',  'B',  'D',  'D',  'D']],\n",
    "\n",
    "       [[ 'B',  'B',  'B',  'B',  'E'],\n",
    "        [ 'D',  'D',  'D',  'D',  'D'],\n",
    "        [ 'B',  'D',   'A',  'D', 'D']]])\n",
    "Again, you don't need Numpy in this question.\n",
    "\"\"\""
   ]
  }
 ],
 "metadata": {
  "kernelspec": {
   "display_name": "base",
   "language": "python",
   "name": "python3"
  },
  "language_info": {
   "codemirror_mode": {
    "name": "ipython",
    "version": 3
   },
   "file_extension": ".py",
   "mimetype": "text/x-python",
   "name": "python",
   "nbconvert_exporter": "python",
   "pygments_lexer": "ipython3",
   "version": "3.11.4"
  }
 },
 "nbformat": 4,
 "nbformat_minor": 5
}
